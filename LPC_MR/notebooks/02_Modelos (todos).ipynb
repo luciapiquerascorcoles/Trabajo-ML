{
 "cells": [
  {
   "cell_type": "markdown",
   "metadata": {},
   "source": [
    "# Modelos"
   ]
  },
  {
   "cell_type": "markdown",
   "metadata": {},
   "source": [
    "Iniciaremos con el modelo base de Regresión Logística (GLM) pero antes __dividiremos entre train y test nuestros datos__."
   ]
  },
  {
   "cell_type": "markdown",
   "metadata": {},
   "source": [
    "# Librerías"
   ]
  },
  {
   "cell_type": "code",
   "execution_count": 374,
   "metadata": {},
   "outputs": [],
   "source": [
    "import numpy as np\n",
    "import pandas as pd\n",
    "import matplotlib\n",
    "from matplotlib import pyplot as plt \n",
    "import seaborn as sns \n",
    "from scipy import stats as sts \n",
    "from sklearn.model_selection import train_test_split \n",
    "from sklearn import model_selection\n",
    "from sklearn import linear_model\n",
    "import random \n",
    "from sklearn.utils import resample\n",
    "from sklearn.linear_model import LogisticRegression \n",
    "from imblearn.under_sampling import RandomUnderSampler\n",
    "from sklearn.metrics import confusion_matrix\n",
    "from sklearn.metrics import classification_report\n",
    "from sklearn import metrics\n",
    "from sklearn import svm\n",
    "from sklearn.svm import SVC\n",
    "from sklearn.model_selection import GridSearchCV\n",
    "from sklearn.ensemble import RandomForestRegressor, RandomForestClassifier\n",
    "import pickle"
   ]
  },
  {
   "cell_type": "markdown",
   "metadata": {},
   "source": [
    "Cargamos el dataset con las modificaciones hechas en el _Featuring Engineering_ :"
   ]
  },
  {
   "cell_type": "code",
   "execution_count": 304,
   "metadata": {
    "scrolled": true
   },
   "outputs": [
    {
     "data": {
      "text/html": [
       "<div>\n",
       "<style scoped>\n",
       "    .dataframe tbody tr th:only-of-type {\n",
       "        vertical-align: middle;\n",
       "    }\n",
       "\n",
       "    .dataframe tbody tr th {\n",
       "        vertical-align: top;\n",
       "    }\n",
       "\n",
       "    .dataframe thead th {\n",
       "        text-align: right;\n",
       "    }\n",
       "</style>\n",
       "<table border=\"1\" class=\"dataframe\">\n",
       "  <thead>\n",
       "    <tr style=\"text-align: right;\">\n",
       "      <th></th>\n",
       "      <th>('annual_inc',)</th>\n",
       "      <th>('dti',)</th>\n",
       "      <th>('emp_length',)</th>\n",
       "      <th>('int_rate',)</th>\n",
       "      <th>('loan_amnt',)</th>\n",
       "      <th>('mort_acc',)</th>\n",
       "      <th>('open_acc',)</th>\n",
       "      <th>('pub_rec_bankruptcies',)</th>\n",
       "      <th>('revol_bal',)</th>\n",
       "      <th>('revol_util',)</th>\n",
       "      <th>...</th>\n",
       "      <th>sub_grade_G1</th>\n",
       "      <th>sub_grade_G2</th>\n",
       "      <th>sub_grade_G3</th>\n",
       "      <th>sub_grade_G4</th>\n",
       "      <th>sub_grade_G5</th>\n",
       "      <th>term_36</th>\n",
       "      <th>term_60</th>\n",
       "      <th>verification_status_Not Verified</th>\n",
       "      <th>verification_status_Source Verified</th>\n",
       "      <th>verification_status_Verified</th>\n",
       "    </tr>\n",
       "  </thead>\n",
       "  <tbody>\n",
       "    <tr>\n",
       "      <th>0</th>\n",
       "      <td>1.601835</td>\n",
       "      <td>-0.157682</td>\n",
       "      <td>0.081610</td>\n",
       "      <td>-1.321041</td>\n",
       "      <td>-0.351811</td>\n",
       "      <td>0.157875</td>\n",
       "      <td>1.502962</td>\n",
       "      <td>2.145481</td>\n",
       "      <td>-0.154017</td>\n",
       "      <td>-1.274923</td>\n",
       "      <td>...</td>\n",
       "      <td>0</td>\n",
       "      <td>0</td>\n",
       "      <td>0</td>\n",
       "      <td>0</td>\n",
       "      <td>0</td>\n",
       "      <td>1</td>\n",
       "      <td>0</td>\n",
       "      <td>1</td>\n",
       "      <td>0</td>\n",
       "      <td>0</td>\n",
       "    </tr>\n",
       "    <tr>\n",
       "      <th>1</th>\n",
       "      <td>-0.489987</td>\n",
       "      <td>-1.409073</td>\n",
       "      <td>-0.961618</td>\n",
       "      <td>2.592857</td>\n",
       "      <td>-0.866473</td>\n",
       "      <td>-0.915189</td>\n",
       "      <td>-1.428406</td>\n",
       "      <td>-0.372109</td>\n",
       "      <td>-0.932286</td>\n",
       "      <td>1.921663</td>\n",
       "      <td>...</td>\n",
       "      <td>0</td>\n",
       "      <td>0</td>\n",
       "      <td>0</td>\n",
       "      <td>0</td>\n",
       "      <td>0</td>\n",
       "      <td>1</td>\n",
       "      <td>0</td>\n",
       "      <td>0</td>\n",
       "      <td>1</td>\n",
       "      <td>0</td>\n",
       "    </tr>\n",
       "    <tr>\n",
       "      <th>2</th>\n",
       "      <td>0.984698</td>\n",
       "      <td>-0.601169</td>\n",
       "      <td>0.342417</td>\n",
       "      <td>-1.321041</td>\n",
       "      <td>-0.831182</td>\n",
       "      <td>1.230939</td>\n",
       "      <td>1.319751</td>\n",
       "      <td>-0.372109</td>\n",
       "      <td>0.738413</td>\n",
       "      <td>-1.086148</td>\n",
       "      <td>...</td>\n",
       "      <td>0</td>\n",
       "      <td>0</td>\n",
       "      <td>0</td>\n",
       "      <td>0</td>\n",
       "      <td>0</td>\n",
       "      <td>1</td>\n",
       "      <td>0</td>\n",
       "      <td>1</td>\n",
       "      <td>0</td>\n",
       "      <td>0</td>\n",
       "    </tr>\n",
       "    <tr>\n",
       "      <th>3</th>\n",
       "      <td>-0.417387</td>\n",
       "      <td>-0.946104</td>\n",
       "      <td>0.342417</td>\n",
       "      <td>0.618016</td>\n",
       "      <td>-0.537090</td>\n",
       "      <td>-0.915189</td>\n",
       "      <td>0.586909</td>\n",
       "      <td>4.663070</td>\n",
       "      <td>-0.509064</td>\n",
       "      <td>-1.388188</td>\n",
       "      <td>...</td>\n",
       "      <td>0</td>\n",
       "      <td>0</td>\n",
       "      <td>0</td>\n",
       "      <td>0</td>\n",
       "      <td>0</td>\n",
       "      <td>0</td>\n",
       "      <td>1</td>\n",
       "      <td>0</td>\n",
       "      <td>1</td>\n",
       "      <td>0</td>\n",
       "    </tr>\n",
       "    <tr>\n",
       "      <th>4</th>\n",
       "      <td>0.268369</td>\n",
       "      <td>-0.860157</td>\n",
       "      <td>0.342417</td>\n",
       "      <td>0.618016</td>\n",
       "      <td>-0.066541</td>\n",
       "      <td>-0.378657</td>\n",
       "      <td>-1.428406</td>\n",
       "      <td>-0.372109</td>\n",
       "      <td>-1.177864</td>\n",
       "      <td>1.548308</td>\n",
       "      <td>...</td>\n",
       "      <td>0</td>\n",
       "      <td>0</td>\n",
       "      <td>0</td>\n",
       "      <td>0</td>\n",
       "      <td>0</td>\n",
       "      <td>1</td>\n",
       "      <td>0</td>\n",
       "      <td>0</td>\n",
       "      <td>0</td>\n",
       "      <td>1</td>\n",
       "    </tr>\n",
       "    <tr>\n",
       "      <th>...</th>\n",
       "      <td>...</td>\n",
       "      <td>...</td>\n",
       "      <td>...</td>\n",
       "      <td>...</td>\n",
       "      <td>...</td>\n",
       "      <td>...</td>\n",
       "      <td>...</td>\n",
       "      <td>...</td>\n",
       "      <td>...</td>\n",
       "      <td>...</td>\n",
       "      <td>...</td>\n",
       "      <td>...</td>\n",
       "      <td>...</td>\n",
       "      <td>...</td>\n",
       "      <td>...</td>\n",
       "      <td>...</td>\n",
       "      <td>...</td>\n",
       "      <td>...</td>\n",
       "      <td>...</td>\n",
       "      <td>...</td>\n",
       "      <td>...</td>\n",
       "    </tr>\n",
       "    <tr>\n",
       "      <th>442562</th>\n",
       "      <td>-1.756702</td>\n",
       "      <td>0.998595</td>\n",
       "      <td>1.124838</td>\n",
       "      <td>0.521846</td>\n",
       "      <td>-0.351811</td>\n",
       "      <td>-0.915189</td>\n",
       "      <td>-0.512354</td>\n",
       "      <td>-0.372109</td>\n",
       "      <td>0.520341</td>\n",
       "      <td>0.499560</td>\n",
       "      <td>...</td>\n",
       "      <td>0</td>\n",
       "      <td>0</td>\n",
       "      <td>0</td>\n",
       "      <td>0</td>\n",
       "      <td>0</td>\n",
       "      <td>1</td>\n",
       "      <td>0</td>\n",
       "      <td>0</td>\n",
       "      <td>0</td>\n",
       "      <td>1</td>\n",
       "    </tr>\n",
       "    <tr>\n",
       "      <th>442563</th>\n",
       "      <td>-0.057731</td>\n",
       "      <td>0.610113</td>\n",
       "      <td>-1.483232</td>\n",
       "      <td>-0.283299</td>\n",
       "      <td>-0.301816</td>\n",
       "      <td>-0.378657</td>\n",
       "      <td>0.220488</td>\n",
       "      <td>-0.372109</td>\n",
       "      <td>0.648895</td>\n",
       "      <td>0.696725</td>\n",
       "      <td>...</td>\n",
       "      <td>0</td>\n",
       "      <td>0</td>\n",
       "      <td>0</td>\n",
       "      <td>0</td>\n",
       "      <td>0</td>\n",
       "      <td>1</td>\n",
       "      <td>0</td>\n",
       "      <td>0</td>\n",
       "      <td>0</td>\n",
       "      <td>1</td>\n",
       "    </tr>\n",
       "    <tr>\n",
       "      <th>442564</th>\n",
       "      <td>-1.157084</td>\n",
       "      <td>1.436353</td>\n",
       "      <td>-0.179197</td>\n",
       "      <td>0.611307</td>\n",
       "      <td>-0.184178</td>\n",
       "      <td>-0.915189</td>\n",
       "      <td>-0.512354</td>\n",
       "      <td>2.145481</td>\n",
       "      <td>0.072311</td>\n",
       "      <td>0.344345</td>\n",
       "      <td>...</td>\n",
       "      <td>0</td>\n",
       "      <td>0</td>\n",
       "      <td>0</td>\n",
       "      <td>0</td>\n",
       "      <td>0</td>\n",
       "      <td>0</td>\n",
       "      <td>1</td>\n",
       "      <td>0</td>\n",
       "      <td>0</td>\n",
       "      <td>1</td>\n",
       "    </tr>\n",
       "    <tr>\n",
       "      <th>442565</th>\n",
       "      <td>-0.016623</td>\n",
       "      <td>1.011200</td>\n",
       "      <td>-1.222425</td>\n",
       "      <td>1.505912</td>\n",
       "      <td>-0.301816</td>\n",
       "      <td>-0.915189</td>\n",
       "      <td>0.953330</td>\n",
       "      <td>-0.372109</td>\n",
       "      <td>-0.185316</td>\n",
       "      <td>-0.943518</td>\n",
       "      <td>...</td>\n",
       "      <td>0</td>\n",
       "      <td>0</td>\n",
       "      <td>0</td>\n",
       "      <td>0</td>\n",
       "      <td>0</td>\n",
       "      <td>0</td>\n",
       "      <td>1</td>\n",
       "      <td>0</td>\n",
       "      <td>1</td>\n",
       "      <td>0</td>\n",
       "    </tr>\n",
       "    <tr>\n",
       "      <th>442566</th>\n",
       "      <td>0.806434</td>\n",
       "      <td>-0.863595</td>\n",
       "      <td>1.124838</td>\n",
       "      <td>-0.283299</td>\n",
       "      <td>0.639281</td>\n",
       "      <td>-0.915189</td>\n",
       "      <td>-0.695564</td>\n",
       "      <td>-0.372109</td>\n",
       "      <td>1.052926</td>\n",
       "      <td>1.120419</td>\n",
       "      <td>...</td>\n",
       "      <td>0</td>\n",
       "      <td>0</td>\n",
       "      <td>0</td>\n",
       "      <td>0</td>\n",
       "      <td>0</td>\n",
       "      <td>1</td>\n",
       "      <td>0</td>\n",
       "      <td>0</td>\n",
       "      <td>0</td>\n",
       "      <td>1</td>\n",
       "    </tr>\n",
       "  </tbody>\n",
       "</table>\n",
       "<p>442567 rows × 73 columns</p>\n",
       "</div>"
      ],
      "text/plain": [
       "        ('annual_inc',)  ('dti',)  ('emp_length',)  ('int_rate',)  \\\n",
       "0              1.601835 -0.157682         0.081610      -1.321041   \n",
       "1             -0.489987 -1.409073        -0.961618       2.592857   \n",
       "2              0.984698 -0.601169         0.342417      -1.321041   \n",
       "3             -0.417387 -0.946104         0.342417       0.618016   \n",
       "4              0.268369 -0.860157         0.342417       0.618016   \n",
       "...                 ...       ...              ...            ...   \n",
       "442562        -1.756702  0.998595         1.124838       0.521846   \n",
       "442563        -0.057731  0.610113        -1.483232      -0.283299   \n",
       "442564        -1.157084  1.436353        -0.179197       0.611307   \n",
       "442565        -0.016623  1.011200        -1.222425       1.505912   \n",
       "442566         0.806434 -0.863595         1.124838      -0.283299   \n",
       "\n",
       "        ('loan_amnt',)  ('mort_acc',)  ('open_acc',)  \\\n",
       "0            -0.351811       0.157875       1.502962   \n",
       "1            -0.866473      -0.915189      -1.428406   \n",
       "2            -0.831182       1.230939       1.319751   \n",
       "3            -0.537090      -0.915189       0.586909   \n",
       "4            -0.066541      -0.378657      -1.428406   \n",
       "...                ...            ...            ...   \n",
       "442562       -0.351811      -0.915189      -0.512354   \n",
       "442563       -0.301816      -0.378657       0.220488   \n",
       "442564       -0.184178      -0.915189      -0.512354   \n",
       "442565       -0.301816      -0.915189       0.953330   \n",
       "442566        0.639281      -0.915189      -0.695564   \n",
       "\n",
       "        ('pub_rec_bankruptcies',)  ('revol_bal',)  ('revol_util',)  ...  \\\n",
       "0                        2.145481       -0.154017        -1.274923  ...   \n",
       "1                       -0.372109       -0.932286         1.921663  ...   \n",
       "2                       -0.372109        0.738413        -1.086148  ...   \n",
       "3                        4.663070       -0.509064        -1.388188  ...   \n",
       "4                       -0.372109       -1.177864         1.548308  ...   \n",
       "...                           ...             ...              ...  ...   \n",
       "442562                  -0.372109        0.520341         0.499560  ...   \n",
       "442563                  -0.372109        0.648895         0.696725  ...   \n",
       "442564                   2.145481        0.072311         0.344345  ...   \n",
       "442565                  -0.372109       -0.185316        -0.943518  ...   \n",
       "442566                  -0.372109        1.052926         1.120419  ...   \n",
       "\n",
       "        sub_grade_G1  sub_grade_G2  sub_grade_G3  sub_grade_G4  sub_grade_G5  \\\n",
       "0                  0             0             0             0             0   \n",
       "1                  0             0             0             0             0   \n",
       "2                  0             0             0             0             0   \n",
       "3                  0             0             0             0             0   \n",
       "4                  0             0             0             0             0   \n",
       "...              ...           ...           ...           ...           ...   \n",
       "442562             0             0             0             0             0   \n",
       "442563             0             0             0             0             0   \n",
       "442564             0             0             0             0             0   \n",
       "442565             0             0             0             0             0   \n",
       "442566             0             0             0             0             0   \n",
       "\n",
       "        term_36  term_60  verification_status_Not Verified  \\\n",
       "0             1        0                                 1   \n",
       "1             1        0                                 0   \n",
       "2             1        0                                 1   \n",
       "3             0        1                                 0   \n",
       "4             1        0                                 0   \n",
       "...         ...      ...                               ...   \n",
       "442562        1        0                                 0   \n",
       "442563        1        0                                 0   \n",
       "442564        0        1                                 0   \n",
       "442565        0        1                                 0   \n",
       "442566        1        0                                 0   \n",
       "\n",
       "        verification_status_Source Verified  verification_status_Verified  \n",
       "0                                         0                             0  \n",
       "1                                         1                             0  \n",
       "2                                         0                             0  \n",
       "3                                         1                             0  \n",
       "4                                         0                             1  \n",
       "...                                     ...                           ...  \n",
       "442562                                    0                             1  \n",
       "442563                                    0                             1  \n",
       "442564                                    0                             1  \n",
       "442565                                    1                             0  \n",
       "442566                                    0                             1  \n",
       "\n",
       "[442567 rows x 73 columns]"
      ]
     },
     "execution_count": 304,
     "metadata": {},
     "output_type": "execute_result"
    }
   ],
   "source": [
    "LOAN_var_norm = pd.read_csv('../data/intermediate/LOAN_var_norm.csv', delimiter =\",\")\n",
    "LOAN_var_norm"
   ]
  },
  {
   "cell_type": "markdown",
   "metadata": {},
   "source": [
    "# Train y Test"
   ]
  },
  {
   "cell_type": "markdown",
   "metadata": {},
   "source": [
    "Para reducir el coste computacional, hemos ido probando a tirar los modelos con no todos los datos para intentar encontrar un punto a partir del cual los modelos no nos mejoren aún aumentando la cantidad de observaciones. \n",
    "\n",
    "Creemos que a más datos mejor, pero que los algoritmos quizás no necesitan tantos datos para obtener buenos resultados, y tirándolos con los más de 400k datos, se nos eternizaba tanto que nunca terminaba de salir, por ejemplo los grids. "
   ]
  },
  {
   "cell_type": "code",
   "execution_count": 337,
   "metadata": {},
   "outputs": [],
   "source": [
    "data_train1 = LOAN_var_norm.sample(n=300000, random_state=1234)"
   ]
  },
  {
   "cell_type": "code",
   "execution_count": 131,
   "metadata": {},
   "outputs": [
    {
     "name": "stdout",
     "output_type": "stream",
     "text": [
      "<class 'pandas.core.frame.DataFrame'>\n",
      "Int64Index: 5000 entries, 271013 to 408815\n",
      "Data columns (total 73 columns):\n",
      " #   Column                               Non-Null Count  Dtype  \n",
      "---  ------                               --------------  -----  \n",
      " 0   ('annual_inc',)                      5000 non-null   float64\n",
      " 1   ('dti',)                             5000 non-null   float64\n",
      " 2   ('emp_length',)                      5000 non-null   float64\n",
      " 3   ('int_rate',)                        5000 non-null   float64\n",
      " 4   ('loan_amnt',)                       5000 non-null   float64\n",
      " 5   ('mort_acc',)                        5000 non-null   float64\n",
      " 6   ('open_acc',)                        5000 non-null   float64\n",
      " 7   ('pub_rec_bankruptcies',)            5000 non-null   float64\n",
      " 8   ('revol_bal',)                       5000 non-null   float64\n",
      " 9   ('revol_util',)                      5000 non-null   float64\n",
      " 10  ('total_acc',)                       5000 non-null   float64\n",
      " 11  Charged_off                          5000 non-null   int64  \n",
      " 12  application_type_Individual          5000 non-null   int64  \n",
      " 13  application_type_Joint App           5000 non-null   int64  \n",
      " 14  home_ownership_MORTGAGE              5000 non-null   int64  \n",
      " 15  home_ownership_OWN                   5000 non-null   int64  \n",
      " 16  home_ownership_RENT                  5000 non-null   int64  \n",
      " 17  initial_list_status_f                5000 non-null   int64  \n",
      " 18  initial_list_status_w                5000 non-null   int64  \n",
      " 19  purpose_car                          5000 non-null   int64  \n",
      " 20  purpose_credit_card                  5000 non-null   int64  \n",
      " 21  purpose_debt_consolidation           5000 non-null   int64  \n",
      " 22  purpose_educational                  5000 non-null   int64  \n",
      " 23  purpose_home_improvement             5000 non-null   int64  \n",
      " 24  purpose_house                        5000 non-null   int64  \n",
      " 25  purpose_major_purchase               5000 non-null   int64  \n",
      " 26  purpose_medical                      5000 non-null   int64  \n",
      " 27  purpose_moving                       5000 non-null   int64  \n",
      " 28  purpose_other                        5000 non-null   int64  \n",
      " 29  purpose_renewable_energy             5000 non-null   int64  \n",
      " 30  purpose_small_business               5000 non-null   int64  \n",
      " 31  purpose_vacation                     5000 non-null   int64  \n",
      " 32  purpose_wedding                      5000 non-null   int64  \n",
      " 33  sub_grade_A1                         5000 non-null   int64  \n",
      " 34  sub_grade_A2                         5000 non-null   int64  \n",
      " 35  sub_grade_A3                         5000 non-null   int64  \n",
      " 36  sub_grade_A4                         5000 non-null   int64  \n",
      " 37  sub_grade_A5                         5000 non-null   int64  \n",
      " 38  sub_grade_B1                         5000 non-null   int64  \n",
      " 39  sub_grade_B2                         5000 non-null   int64  \n",
      " 40  sub_grade_B3                         5000 non-null   int64  \n",
      " 41  sub_grade_B4                         5000 non-null   int64  \n",
      " 42  sub_grade_B5                         5000 non-null   int64  \n",
      " 43  sub_grade_C1                         5000 non-null   int64  \n",
      " 44  sub_grade_C2                         5000 non-null   int64  \n",
      " 45  sub_grade_C3                         5000 non-null   int64  \n",
      " 46  sub_grade_C4                         5000 non-null   int64  \n",
      " 47  sub_grade_C5                         5000 non-null   int64  \n",
      " 48  sub_grade_D1                         5000 non-null   int64  \n",
      " 49  sub_grade_D2                         5000 non-null   int64  \n",
      " 50  sub_grade_D3                         5000 non-null   int64  \n",
      " 51  sub_grade_D4                         5000 non-null   int64  \n",
      " 52  sub_grade_D5                         5000 non-null   int64  \n",
      " 53  sub_grade_E1                         5000 non-null   int64  \n",
      " 54  sub_grade_E2                         5000 non-null   int64  \n",
      " 55  sub_grade_E3                         5000 non-null   int64  \n",
      " 56  sub_grade_E4                         5000 non-null   int64  \n",
      " 57  sub_grade_E5                         5000 non-null   int64  \n",
      " 58  sub_grade_F1                         5000 non-null   int64  \n",
      " 59  sub_grade_F2                         5000 non-null   int64  \n",
      " 60  sub_grade_F3                         5000 non-null   int64  \n",
      " 61  sub_grade_F4                         5000 non-null   int64  \n",
      " 62  sub_grade_F5                         5000 non-null   int64  \n",
      " 63  sub_grade_G1                         5000 non-null   int64  \n",
      " 64  sub_grade_G2                         5000 non-null   int64  \n",
      " 65  sub_grade_G3                         5000 non-null   int64  \n",
      " 66  sub_grade_G4                         5000 non-null   int64  \n",
      " 67  sub_grade_G5                         5000 non-null   int64  \n",
      " 68  term_36                              5000 non-null   int64  \n",
      " 69  term_60                              5000 non-null   int64  \n",
      " 70  verification_status_Not Verified     5000 non-null   int64  \n",
      " 71  verification_status_Source Verified  5000 non-null   int64  \n",
      " 72  verification_status_Verified         5000 non-null   int64  \n",
      "dtypes: float64(11), int64(62)\n",
      "memory usage: 2.8 MB\n"
     ]
    }
   ],
   "source": [
    "data_train1.info()\n"
   ]
  },
  {
   "cell_type": "code",
   "execution_count": 338,
   "metadata": {},
   "outputs": [],
   "source": [
    "Y = data_train1['Charged_off']\n",
    "X = data_train1.drop(['Charged_off'], axis = 1)\n"
   ]
  },
  {
   "cell_type": "code",
   "execution_count": 133,
   "metadata": {},
   "outputs": [
    {
     "name": "stdout",
     "output_type": "stream",
     "text": [
      "<class 'pandas.core.frame.DataFrame'>\n",
      "Int64Index: 5000 entries, 271013 to 408815\n",
      "Data columns (total 72 columns):\n",
      " #   Column                               Non-Null Count  Dtype  \n",
      "---  ------                               --------------  -----  \n",
      " 0   ('annual_inc',)                      5000 non-null   float64\n",
      " 1   ('dti',)                             5000 non-null   float64\n",
      " 2   ('emp_length',)                      5000 non-null   float64\n",
      " 3   ('int_rate',)                        5000 non-null   float64\n",
      " 4   ('loan_amnt',)                       5000 non-null   float64\n",
      " 5   ('mort_acc',)                        5000 non-null   float64\n",
      " 6   ('open_acc',)                        5000 non-null   float64\n",
      " 7   ('pub_rec_bankruptcies',)            5000 non-null   float64\n",
      " 8   ('revol_bal',)                       5000 non-null   float64\n",
      " 9   ('revol_util',)                      5000 non-null   float64\n",
      " 10  ('total_acc',)                       5000 non-null   float64\n",
      " 11  application_type_Individual          5000 non-null   int64  \n",
      " 12  application_type_Joint App           5000 non-null   int64  \n",
      " 13  home_ownership_MORTGAGE              5000 non-null   int64  \n",
      " 14  home_ownership_OWN                   5000 non-null   int64  \n",
      " 15  home_ownership_RENT                  5000 non-null   int64  \n",
      " 16  initial_list_status_f                5000 non-null   int64  \n",
      " 17  initial_list_status_w                5000 non-null   int64  \n",
      " 18  purpose_car                          5000 non-null   int64  \n",
      " 19  purpose_credit_card                  5000 non-null   int64  \n",
      " 20  purpose_debt_consolidation           5000 non-null   int64  \n",
      " 21  purpose_educational                  5000 non-null   int64  \n",
      " 22  purpose_home_improvement             5000 non-null   int64  \n",
      " 23  purpose_house                        5000 non-null   int64  \n",
      " 24  purpose_major_purchase               5000 non-null   int64  \n",
      " 25  purpose_medical                      5000 non-null   int64  \n",
      " 26  purpose_moving                       5000 non-null   int64  \n",
      " 27  purpose_other                        5000 non-null   int64  \n",
      " 28  purpose_renewable_energy             5000 non-null   int64  \n",
      " 29  purpose_small_business               5000 non-null   int64  \n",
      " 30  purpose_vacation                     5000 non-null   int64  \n",
      " 31  purpose_wedding                      5000 non-null   int64  \n",
      " 32  sub_grade_A1                         5000 non-null   int64  \n",
      " 33  sub_grade_A2                         5000 non-null   int64  \n",
      " 34  sub_grade_A3                         5000 non-null   int64  \n",
      " 35  sub_grade_A4                         5000 non-null   int64  \n",
      " 36  sub_grade_A5                         5000 non-null   int64  \n",
      " 37  sub_grade_B1                         5000 non-null   int64  \n",
      " 38  sub_grade_B2                         5000 non-null   int64  \n",
      " 39  sub_grade_B3                         5000 non-null   int64  \n",
      " 40  sub_grade_B4                         5000 non-null   int64  \n",
      " 41  sub_grade_B5                         5000 non-null   int64  \n",
      " 42  sub_grade_C1                         5000 non-null   int64  \n",
      " 43  sub_grade_C2                         5000 non-null   int64  \n",
      " 44  sub_grade_C3                         5000 non-null   int64  \n",
      " 45  sub_grade_C4                         5000 non-null   int64  \n",
      " 46  sub_grade_C5                         5000 non-null   int64  \n",
      " 47  sub_grade_D1                         5000 non-null   int64  \n",
      " 48  sub_grade_D2                         5000 non-null   int64  \n",
      " 49  sub_grade_D3                         5000 non-null   int64  \n",
      " 50  sub_grade_D4                         5000 non-null   int64  \n",
      " 51  sub_grade_D5                         5000 non-null   int64  \n",
      " 52  sub_grade_E1                         5000 non-null   int64  \n",
      " 53  sub_grade_E2                         5000 non-null   int64  \n",
      " 54  sub_grade_E3                         5000 non-null   int64  \n",
      " 55  sub_grade_E4                         5000 non-null   int64  \n",
      " 56  sub_grade_E5                         5000 non-null   int64  \n",
      " 57  sub_grade_F1                         5000 non-null   int64  \n",
      " 58  sub_grade_F2                         5000 non-null   int64  \n",
      " 59  sub_grade_F3                         5000 non-null   int64  \n",
      " 60  sub_grade_F4                         5000 non-null   int64  \n",
      " 61  sub_grade_F5                         5000 non-null   int64  \n",
      " 62  sub_grade_G1                         5000 non-null   int64  \n",
      " 63  sub_grade_G2                         5000 non-null   int64  \n",
      " 64  sub_grade_G3                         5000 non-null   int64  \n",
      " 65  sub_grade_G4                         5000 non-null   int64  \n",
      " 66  sub_grade_G5                         5000 non-null   int64  \n",
      " 67  term_36                              5000 non-null   int64  \n",
      " 68  term_60                              5000 non-null   int64  \n",
      " 69  verification_status_Not Verified     5000 non-null   int64  \n",
      " 70  verification_status_Source Verified  5000 non-null   int64  \n",
      " 71  verification_status_Verified         5000 non-null   int64  \n",
      "dtypes: float64(11), int64(61)\n",
      "memory usage: 2.8 MB\n"
     ]
    }
   ],
   "source": [
    "# Vemos que no está 'Charged _off'\n",
    "X.info()"
   ]
  },
  {
   "cell_type": "code",
   "execution_count": 134,
   "metadata": {},
   "outputs": [
    {
     "data": {
      "text/plain": [
       "345139    0\n",
       "89755     0\n",
       "275514    0\n",
       "132653    0\n",
       "408815    0\n",
       "Name: Charged_off, dtype: int64"
      ]
     },
     "execution_count": 134,
     "metadata": {},
     "output_type": "execute_result"
    }
   ],
   "source": [
    "Y.tail()"
   ]
  },
  {
   "cell_type": "code",
   "execution_count": 339,
   "metadata": {},
   "outputs": [],
   "source": [
    "x_train, x_test, y_train, y_test = train_test_split(X, Y, test_size=0.3, random_state=1234)"
   ]
  },
  {
   "cell_type": "code",
   "execution_count": 340,
   "metadata": {},
   "outputs": [
    {
     "data": {
      "text/plain": [
       "(210000, 72)"
      ]
     },
     "execution_count": 340,
     "metadata": {},
     "output_type": "execute_result"
    }
   ],
   "source": [
    "x_train.shape"
   ]
  },
  {
   "cell_type": "code",
   "execution_count": 341,
   "metadata": {},
   "outputs": [
    {
     "data": {
      "text/plain": [
       "(90000, 72)"
      ]
     },
     "execution_count": 341,
     "metadata": {},
     "output_type": "execute_result"
    }
   ],
   "source": [
    "x_test.shape"
   ]
  },
  {
   "cell_type": "code",
   "execution_count": 139,
   "metadata": {},
   "outputs": [
    {
     "data": {
      "text/plain": [
       "6854      0\n",
       "267129    0\n",
       "392565    0\n",
       "338639    0\n",
       "248225    0\n",
       "Name: Charged_off, dtype: int64"
      ]
     },
     "execution_count": 139,
     "metadata": {},
     "output_type": "execute_result"
    }
   ],
   "source": [
    "y_train.head()"
   ]
  },
  {
   "cell_type": "markdown",
   "metadata": {},
   "source": [
    "Hacemos _undersampling_ porque tenemos datos de sobra como para hacer oversampling. Lo que queremos es bajar la clase que tiene más cantidad, a la que tiene menos. "
   ]
  },
  {
   "cell_type": "markdown",
   "metadata": {},
   "source": [
    "Haremos undersampling de los datos de nuestra muestra para balancearlos:"
   ]
  },
  {
   "cell_type": "code",
   "execution_count": 342,
   "metadata": {},
   "outputs": [],
   "source": [
    "undersample = RandomUnderSampler(sampling_strategy = 'majority')"
   ]
  },
  {
   "cell_type": "code",
   "execution_count": 343,
   "metadata": {},
   "outputs": [],
   "source": [
    "x_under, y_under = undersample.fit_sample(x_train, y_train)"
   ]
  },
  {
   "cell_type": "code",
   "execution_count": 344,
   "metadata": {},
   "outputs": [
    {
     "data": {
      "text/plain": [
       "(92050, 72)"
      ]
     },
     "execution_count": 344,
     "metadata": {},
     "output_type": "execute_result"
    }
   ],
   "source": [
    "x_under.shape"
   ]
  },
  {
   "cell_type": "code",
   "execution_count": 345,
   "metadata": {},
   "outputs": [
    {
     "data": {
      "text/plain": [
       "(92050,)"
      ]
     },
     "execution_count": 345,
     "metadata": {},
     "output_type": "execute_result"
    }
   ],
   "source": [
    "y_under.shape"
   ]
  },
  {
   "cell_type": "markdown",
   "metadata": {},
   "source": [
    "# Modelo GLM"
   ]
  },
  {
   "cell_type": "markdown",
   "metadata": {},
   "source": [
    "Elaboramos un modelo GLM, como primera aproximación. "
   ]
  },
  {
   "cell_type": "code",
   "execution_count": 346,
   "metadata": {},
   "outputs": [],
   "source": [
    "logit = LogisticRegression(random_state = 1234)"
   ]
  },
  {
   "cell_type": "code",
   "execution_count": 347,
   "metadata": {},
   "outputs": [
    {
     "name": "stderr",
     "output_type": "stream",
     "text": [
      "/Users/luzi/opt/anaconda3/envs/loan_env/lib/python3.8/site-packages/sklearn/linear_model/_logistic.py:762: ConvergenceWarning: lbfgs failed to converge (status=1):\n",
      "STOP: TOTAL NO. of ITERATIONS REACHED LIMIT.\n",
      "\n",
      "Increase the number of iterations (max_iter) or scale the data as shown in:\n",
      "    https://scikit-learn.org/stable/modules/preprocessing.html\n",
      "Please also refer to the documentation for alternative solver options:\n",
      "    https://scikit-learn.org/stable/modules/linear_model.html#logistic-regression\n",
      "  n_iter_i = _check_optimize_result(\n"
     ]
    },
    {
     "data": {
      "text/plain": [
       "LogisticRegression(random_state=1234)"
      ]
     },
     "execution_count": 347,
     "metadata": {},
     "output_type": "execute_result"
    }
   ],
   "source": [
    "logit.fit(x_under, y_under)"
   ]
  },
  {
   "cell_type": "code",
   "execution_count": 348,
   "metadata": {},
   "outputs": [],
   "source": [
    "logit_prob = logit.predict_proba(x_under)"
   ]
  },
  {
   "cell_type": "code",
   "execution_count": 349,
   "metadata": {},
   "outputs": [],
   "source": [
    "logit_score = logit_prob[:,1]"
   ]
  },
  {
   "cell_type": "code",
   "execution_count": 350,
   "metadata": {},
   "outputs": [],
   "source": [
    "prediccion_logit = logit.predict(x_test)"
   ]
  },
  {
   "cell_type": "code",
   "execution_count": 376,
   "metadata": {},
   "outputs": [],
   "source": [
    "conf_matrix = confusion_matrix(y_test, prediccion_logit)"
   ]
  },
  {
   "cell_type": "code",
   "execution_count": 351,
   "metadata": {},
   "outputs": [
    {
     "name": "stdout",
     "output_type": "stream",
     "text": [
      "[[45267 24973]\n",
      " [ 6287 13473]]\n"
     ]
    }
   ],
   "source": [
    "print(conf_matrix)"
   ]
  },
  {
   "cell_type": "code",
   "execution_count": 377,
   "metadata": {},
   "outputs": [
    {
     "data": {
      "text/plain": [
       "<AxesSubplot:>"
      ]
     },
     "execution_count": 377,
     "metadata": {},
     "output_type": "execute_result"
    },
    {
     "data": {
      "image/png": "[encoded data removed]",
      "text/plain": [
       "<Figure size 432x288 with 2 Axes>"
      ]
     },
     "metadata": {
      "needs_background": "light"
     },
     "output_type": "display_data"
    }
   ],
   "source": [
    "sns.heatmap(conf_matrix/np.sum(conf_matrix), annot=True, \n",
    "            fmt='.2%', cmap='Blues')"
   ]
  },
  {
   "cell_type": "markdown",
   "metadata": {},
   "source": [
    "Vemos que los resultados obtenidos con el GLM no son horribles pero si mejorables. \n",
    "\n",
    "- Para la gente que clasificó el modelo como pagadores y finalmente pagaron, tenemos un ratio del 50.30%\n",
    "\n",
    "- Para la gente que clasificó el modelo como no pagadores y finalmente pagaron, tenemos un ratio del 27.75%. ( a esta gente no le dimos el crédito, por tanto, perdimos clientes por hacer una mala predicción)\n",
    "\n",
    "- Para la gente que clasificó el modelo como pagadores y finalmente no pagaron, tenemos un ratio del 7%, lo cual no es una tasa demasiado alta.  "
   ]
  },
  {
   "cell_type": "code",
   "execution_count": 352,
   "metadata": {},
   "outputs": [
    {
     "name": "stdout",
     "output_type": "stream",
     "text": [
      "              precision    recall  f1-score   support\n",
      "\n",
      "           0       0.88      0.64      0.74     70240\n",
      "           1       0.35      0.68      0.46     19760\n",
      "\n",
      "    accuracy                           0.65     90000\n",
      "   macro avg       0.61      0.66      0.60     90000\n",
      "weighted avg       0.76      0.65      0.68     90000\n",
      "\n"
     ]
    }
   ],
   "source": [
    "print(classification_report(y_test, prediccion_logit))"
   ]
  },
  {
   "cell_type": "code",
   "execution_count": 353,
   "metadata": {},
   "outputs": [
    {
     "data": {
      "image/png": "[encoded data removed]",
      "text/plain": [
       "<Figure size 432x288 with 1 Axes>"
      ]
     },
     "metadata": {
      "needs_background": "light"
     },
     "output_type": "display_data"
    }
   ],
   "source": [
    "metrics.plot_roc_curve(logit, x_test, y_test)\n",
    "plt.show()"
   ]
  },
  {
   "cell_type": "markdown",
   "metadata": {},
   "source": [
    "Obtenemos un accuracy de del 65% y un AUC en la curva ROC del 72%"
   ]
  },
  {
   "cell_type": "markdown",
   "metadata": {},
   "source": [
    "Guardamos el modelo: "
   ]
  },
  {
   "cell_type": "code",
   "execution_count": 375,
   "metadata": {},
   "outputs": [],
   "source": [
    "nombre = 'GLM.sav'\n",
    "pickle.dump(logit, open(nombre, 'wb'))"
   ]
  },
  {
   "cell_type": "markdown",
   "metadata": {},
   "source": [
    "# Modelo SVM"
   ]
  },
  {
   "cell_type": "code",
   "execution_count": 354,
   "metadata": {},
   "outputs": [],
   "source": [
    "SVM = SVC(kernel='rbf',\n",
    "          tol=0.01, \n",
    "          C=1, random_state=1234)"
   ]
  },
  {
   "cell_type": "code",
   "execution_count": 356,
   "metadata": {},
   "outputs": [
    {
     "data": {
      "text/plain": [
       "SVC(C=1, random_state=1234, tol=0.01)"
      ]
     },
     "execution_count": 356,
     "metadata": {},
     "output_type": "execute_result"
    }
   ],
   "source": [
    "SVM.fit(x_under, y_under)"
   ]
  },
  {
   "cell_type": "code",
   "execution_count": 357,
   "metadata": {
    "scrolled": true
   },
   "outputs": [
    {
     "data": {
      "text/plain": [
       "0.6745681694731125"
      ]
     },
     "execution_count": 357,
     "metadata": {},
     "output_type": "execute_result"
    }
   ],
   "source": [
    "SVM.score(x_under, y_under)"
   ]
  },
  {
   "cell_type": "code",
   "execution_count": 358,
   "metadata": {},
   "outputs": [],
   "source": [
    "SVM_predicted = SVM.predict(x_test)"
   ]
  },
  {
   "cell_type": "code",
   "execution_count": 359,
   "metadata": {},
   "outputs": [
    {
     "data": {
      "text/plain": [
       "0.6399444444444444"
      ]
     },
     "execution_count": 359,
     "metadata": {},
     "output_type": "execute_result"
    }
   ],
   "source": [
    "SVM.score(x_test, y_test)"
   ]
  },
  {
   "cell_type": "code",
   "execution_count": 385,
   "metadata": {},
   "outputs": [],
   "source": [
    "conf_matrix = confusion_matrix(y_test, SVM_predicted)"
   ]
  },
  {
   "cell_type": "code",
   "execution_count": 386,
   "metadata": {},
   "outputs": [
    {
     "name": "stdout",
     "output_type": "stream",
     "text": [
      "[[44052 26188]\n",
      " [ 6217 13543]]\n"
     ]
    }
   ],
   "source": [
    "print(confusion_matrix(y_test, SVM_predicted))"
   ]
  },
  {
   "cell_type": "code",
   "execution_count": 387,
   "metadata": {},
   "outputs": [
    {
     "data": {
      "text/plain": [
       "<AxesSubplot:>"
      ]
     },
     "execution_count": 387,
     "metadata": {},
     "output_type": "execute_result"
    },
    {
     "data": {
      "image/png": "[encoded data removed]",
      "text/plain": [
       "<Figure size 432x288 with 2 Axes>"
      ]
     },
     "metadata": {
      "needs_background": "light"
     },
     "output_type": "display_data"
    }
   ],
   "source": [
    "sns.heatmap(conf_matrix/np.sum(conf_matrix), annot=True, \n",
    "            fmt='.2%', cmap='Blues')"
   ]
  },
  {
   "cell_type": "markdown",
   "metadata": {},
   "source": [
    "Vemos que los resultados obtenidos con el SVM no son horribles pero si mejorables. \n",
    "\n",
    "- Para la gente que clasificó el modelo como pagadores y finalmente pagaron, tenemos un ratio del 49%\n",
    "\n",
    "- Para la gente que clasificó el modelo como no pagadores y finalmente pagaron, tenemos un ratio del 29%. ( a esta gente no le dimos el crédito, por tanto, perdimos clientes por hacer una mala predicción)\n",
    "\n",
    "- Para la gente que clasificó el modelo como pagadores y finalmente no pagaron, tenemos un ratio del 7%, lo cual no es una tasa demasiado alta.  "
   ]
  },
  {
   "cell_type": "code",
   "execution_count": 361,
   "metadata": {},
   "outputs": [
    {
     "name": "stdout",
     "output_type": "stream",
     "text": [
      "              precision    recall  f1-score   support\n",
      "\n",
      "           0       0.88      0.63      0.73     70240\n",
      "           1       0.34      0.69      0.46     19760\n",
      "\n",
      "    accuracy                           0.64     90000\n",
      "   macro avg       0.61      0.66      0.59     90000\n",
      "weighted avg       0.76      0.64      0.67     90000\n",
      "\n"
     ]
    }
   ],
   "source": [
    "print(classification_report(y_test, SVM_predicted))"
   ]
  },
  {
   "cell_type": "code",
   "execution_count": null,
   "metadata": {},
   "outputs": [],
   "source": [
    "metrics.plot_roc_curve(SVM, x_test, y_test)\n",
    "plt.show()"
   ]
  },
  {
   "cell_type": "markdown",
   "metadata": {},
   "source": [
    "__Vemos que el accuracy no mejora, se mantiene en 0.64, bien sea cogiendo una muestra de 10.000 datos o una de 300.000.__\n",
    "\n",
    "Además, la precisión de los que pagan es de 0.34, lo cual nos parece bajo "
   ]
  },
  {
   "cell_type": "markdown",
   "metadata": {},
   "source": [
    "__Búsqueda Grid__"
   ]
  },
  {
   "cell_type": "markdown",
   "metadata": {},
   "source": [
    "A continuación se adjuntará el código de la parte realizada con el support vector machine, en la cual se ve reflejada la realización de de la busqueda grid para escoger de una manera correcta los hiper parámetros. "
   ]
  },
  {
   "cell_type": "code",
   "execution_count": null,
   "metadata": {},
   "outputs": [
    {
     "name": "stdout",
     "output_type": "stream",
     "text": [
      "Fitting 5 folds for each of 6 candidates, totalling 30 fits\n"
     ]
    },
    {
     "name": "stderr",
     "output_type": "stream",
     "text": [
      "[Parallel(n_jobs=3)]: Using backend LokyBackend with 3 concurrent workers.\n"
     ]
    }
   ],
   "source": [
    "# probamos con kernel radial solo y ya nos tarda mucho\n",
    "# dejamos el gamma por defecto (no lo ponemos)\n",
    "# metemos 5 en el parametro de regularizacion\n",
    "# njobs = 3 para usar 3 procesadores\n",
    " \n",
    "param_grid = {'C': [0.1, 10, 100],\n",
    "              'gamma' : [0.001, 0.0001],\n",
    "              'kernel': ['rbf']}  \n",
    "grid = GridSearchCV(SVC(), param_grid, refit = True, verbose = 3, n_jobs = 3)\n",
    "grid.fit(x_under, y_under) "
   ]
  },
  {
   "cell_type": "code",
   "execution_count": 199,
   "metadata": {},
   "outputs": [
    {
     "name": "stdout",
     "output_type": "stream",
     "text": [
      "SVC(C=10, gamma=0.001)\n"
     ]
    }
   ],
   "source": [
    "# para ver cuál es el mejor modelo\n",
    "print(grid.best_estimator_) \n",
    "# SVC(C=10, gamma=0.001)"
   ]
  },
  {
   "cell_type": "code",
   "execution_count": 249,
   "metadata": {},
   "outputs": [],
   "source": [
    "# guardamos el mejor modelo\n",
    "SVM_Best = grid.best_estimator_"
   ]
  },
  {
   "cell_type": "code",
   "execution_count": 367,
   "metadata": {},
   "outputs": [
    {
     "name": "stdout",
     "output_type": "stream",
     "text": [
      "              precision    recall  f1-score   support\n",
      "\n",
      "           0       0.87      0.67      0.75     70240\n",
      "           1       0.35      0.63      0.45     19760\n",
      "\n",
      "    accuracy                           0.66     90000\n",
      "   macro avg       0.61      0.65      0.60     90000\n",
      "weighted avg       0.75      0.66      0.69     90000\n",
      "\n"
     ]
    }
   ],
   "source": [
    "grid_predictions = SVM_Best.predict(x_test)\n",
    "print(classification_report(y_test, grid_predictions))"
   ]
  },
  {
   "cell_type": "code",
   "execution_count": 325,
   "metadata": {
    "scrolled": true
   },
   "outputs": [
    {
     "data": {
      "image/png": "[encoded data removed]",
      "text/plain": [
       "<Figure size 432x288 with 1 Axes>"
      ]
     },
     "metadata": {
      "needs_background": "light"
     },
     "output_type": "display_data"
    }
   ],
   "source": [
    "metrics.plot_roc_curve(SVM_Best, x_test, y_test)\n",
    "plt.show()"
   ]
  },
  {
   "cell_type": "markdown",
   "metadata": {},
   "source": [
    "Después de hacer el grid hemos obtenido un accuracy ligeramente mayor, del 66%."
   ]
  },
  {
   "cell_type": "markdown",
   "metadata": {},
   "source": [
    "Guardamos el modelo:"
   ]
  },
  {
   "cell_type": "code",
   "execution_count": 384,
   "metadata": {},
   "outputs": [],
   "source": [
    "nombre = 'SupportVM.sav'\n",
    "pickle.dump(RF, open(nombre, 'wb'))"
   ]
  },
  {
   "cell_type": "markdown",
   "metadata": {},
   "source": [
    "# Random Forest"
   ]
  },
  {
   "cell_type": "code",
   "execution_count": 368,
   "metadata": {},
   "outputs": [
    {
     "name": "stdout",
     "output_type": "stream",
     "text": [
      "              precision    recall  f1-score   support\n",
      "\n",
      "           0       0.87      0.65      0.74     70240\n",
      "           1       0.34      0.65      0.45     19760\n",
      "\n",
      "    accuracy                           0.65     90000\n",
      "   macro avg       0.61      0.65      0.60     90000\n",
      "weighted avg       0.75      0.65      0.68     90000\n",
      "\n"
     ]
    }
   ],
   "source": [
    "RF = RandomForestClassifier(n_estimators = 100 , random_state = 1234, n_jobs = 3)\n",
    "RF.fit(x_under, y_under)\n",
    "RF.score(x_under, y_under)\n",
    "RF_predicted = RF.predict(x_test)\n",
    "print(classification_report(y_test,RF_predicted))"
   ]
  },
  {
   "cell_type": "code",
   "execution_count": 388,
   "metadata": {},
   "outputs": [],
   "source": [
    "conf_matrix = confusion_matrix(y_test, RF_predicted)"
   ]
  },
  {
   "cell_type": "code",
   "execution_count": 389,
   "metadata": {
    "scrolled": true
   },
   "outputs": [
    {
     "name": "stdout",
     "output_type": "stream",
     "text": [
      "[[45542 24698]\n",
      " [ 6886 12874]]\n"
     ]
    }
   ],
   "source": [
    "print(confusion_matrix(y_test, RF_predicted))"
   ]
  },
  {
   "cell_type": "code",
   "execution_count": 390,
   "metadata": {},
   "outputs": [
    {
     "data": {
      "text/plain": [
       "<AxesSubplot:>"
      ]
     },
     "execution_count": 390,
     "metadata": {},
     "output_type": "execute_result"
    },
    {
     "data": {
      "image/png": "[encoded data removed]",
      "text/plain": [
       "<Figure size 432x288 with 2 Axes>"
      ]
     },
     "metadata": {
      "needs_background": "light"
     },
     "output_type": "display_data"
    }
   ],
   "source": [
    "sns.heatmap(conf_matrix/np.sum(conf_matrix), annot=True, \n",
    "            fmt='.2%', cmap='Blues')"
   ]
  },
  {
   "cell_type": "markdown",
   "metadata": {},
   "source": [
    "Vemos que los resultados obtenidos con el SVM no son horribles pero si mejorables. \n",
    "\n",
    "- Para la gente que clasificó el modelo como pagadores y finalmente pagaron, tenemos un ratio del 51%\n",
    "\n",
    "- Para la gente que clasificó el modelo como no pagadores y finalmente pagaron, tenemos un ratio del 27.50%. ( a esta gente no le dimos el crédito, por tanto, perdimos clientes por hacer una mala predicción)\n",
    "\n",
    "- Para la gente que clasificó el modelo como pagadores y finalmente no pagaron, tenemos un ratio del 8%, lo cual no es una tasa demasiado alta.  "
   ]
  },
  {
   "cell_type": "code",
   "execution_count": 370,
   "metadata": {},
   "outputs": [
    {
     "name": "stdout",
     "output_type": "stream",
     "text": [
      "           0\n",
      "0   0.082963\n",
      "1   0.094662\n",
      "2   0.047253\n",
      "3   0.103162\n",
      "4   0.076266\n",
      "..       ...\n",
      "67  0.014187\n",
      "68  0.019167\n",
      "69  0.009473\n",
      "70  0.009846\n",
      "71  0.009291\n",
      "\n",
      "[72 rows x 1 columns]\n"
     ]
    }
   ],
   "source": [
    "coef_RF = pd.DataFrame(RF.feature_importances_)\n",
    "print(coef_RF)"
   ]
  },
  {
   "cell_type": "markdown",
   "metadata": {},
   "source": [
    "Vemos que las últimas variables apenas son importantes."
   ]
  },
  {
   "cell_type": "code",
   "execution_count": 371,
   "metadata": {},
   "outputs": [
    {
     "data": {
      "image/png": "[encoded data removed]",
      "text/plain": [
       "<Figure size 432x288 with 1 Axes>"
      ]
     },
     "metadata": {
      "needs_background": "light"
     },
     "output_type": "display_data"
    }
   ],
   "source": [
    "metrics.plot_roc_curve(RF, x_test, y_test)\n",
    "plt.show()"
   ]
  },
  {
   "cell_type": "markdown",
   "metadata": {},
   "source": [
    "Con 300.000 datos (teniendo en cuenta que hacemos under sampling), antes del grid obtenemos un accuracy del 65%, igual que con muestras de menos cantidad de datos. "
   ]
  },
  {
   "cell_type": "markdown",
   "metadata": {},
   "source": [
    "Guardamos el modelo: "
   ]
  },
  {
   "cell_type": "code",
   "execution_count": 378,
   "metadata": {},
   "outputs": [],
   "source": [
    "nombre = 'RandomF.sav'\n",
    "pickle.dump(RF, open(nombre, 'wb'))"
   ]
  },
  {
   "cell_type": "markdown",
   "metadata": {},
   "source": [
    "__Búsqueda Grid__"
   ]
  },
  {
   "cell_type": "code",
   "execution_count": 372,
   "metadata": {},
   "outputs": [
    {
     "name": "stdout",
     "output_type": "stream",
     "text": [
      "Fitting 5 folds for each of 3 candidates, totalling 15 fits\n"
     ]
    },
    {
     "name": "stderr",
     "output_type": "stream",
     "text": [
      "[Parallel(n_jobs=3)]: Using backend LokyBackend with 3 concurrent workers.\n",
      "[Parallel(n_jobs=3)]: Done  15 out of  15 | elapsed: 63.0min finished\n"
     ]
    },
    {
     "data": {
      "text/plain": [
       "GridSearchCV(estimator=RandomForestClassifier(), n_jobs=3,\n",
       "             param_grid={'n_estimators': [500, 1000, 1000]}, verbose=3)"
      ]
     },
     "execution_count": 372,
     "metadata": {},
     "output_type": "execute_result"
    }
   ],
   "source": [
    "param_grid = {'n_estimators': [500, 1000, 1000]}  \n",
    "grid = GridSearchCV(RandomForestClassifier(), param_grid, refit = True, verbose = 3, n_jobs = 3)\n",
    "grid.fit(x_under, y_under) "
   ]
  },
  {
   "cell_type": "code",
   "execution_count": 330,
   "metadata": {},
   "outputs": [
    {
     "name": "stdout",
     "output_type": "stream",
     "text": [
      "RandomForestClassifier(n_estimators=1000)\n"
     ]
    }
   ],
   "source": [
    "print(grid.best_estimator_) "
   ]
  },
  {
   "cell_type": "code",
   "execution_count": 331,
   "metadata": {},
   "outputs": [],
   "source": [
    "# guardamos el mejor modelo\n",
    "RF_Best = grid.best_estimator_"
   ]
  },
  {
   "cell_type": "code",
   "execution_count": 383,
   "metadata": {},
   "outputs": [
    {
     "name": "stdout",
     "output_type": "stream",
     "text": [
      "              precision    recall  f1-score   support\n",
      "\n",
      "           0       0.90      0.66      0.76     70240\n",
      "           1       0.38      0.73      0.50     19760\n",
      "\n",
      "    accuracy                           0.68     90000\n",
      "   macro avg       0.64      0.70      0.63     90000\n",
      "weighted avg       0.78      0.68      0.70     90000\n",
      "\n"
     ]
    }
   ],
   "source": [
    "grid_predictions = RF_Best.predict(x_test)\n",
    "print(classification_report(y_test, grid_predictions))"
   ]
  },
  {
   "cell_type": "code",
   "execution_count": 334,
   "metadata": {},
   "outputs": [
    {
     "name": "stdout",
     "output_type": "stream",
     "text": [
      "[[15290  8135]\n",
      " [ 2312  4263]]\n"
     ]
    }
   ],
   "source": [
    "print(confusion_matrix(y_test, RF_predicted))"
   ]
  },
  {
   "cell_type": "markdown",
   "metadata": {},
   "source": [
    "Vemos que el modelo no ha mejorado después del grid."
   ]
  },
  {
   "cell_type": "markdown",
   "metadata": {},
   "source": [
    "# Gradient Boosting"
   ]
  },
  {
   "cell_type": "markdown",
   "metadata": {},
   "source": [
    "La _Gradient Boosting_ es un poderoso algoritmo de aprendizaje que utiliza árboles de decisión.\n",
    "\n",
    "La potenciación es una técnica general de conjunto que consiste en añadir secuencialmente modelos al conjunto donde los modelos posteriores corrigen el rendimiento de los modelos anteriores. \n",
    "\n"
   ]
  },
  {
   "cell_type": "code",
   "execution_count": 363,
   "metadata": {},
   "outputs": [],
   "source": [
    "from sklearn.ensemble import GradientBoostingClassifier"
   ]
  },
  {
   "cell_type": "code",
   "execution_count": 364,
   "metadata": {},
   "outputs": [
    {
     "name": "stdout",
     "output_type": "stream",
     "text": [
      "Accuracy score (training): 0.655\n",
      "Accuracy score (validation): 0.649\n"
     ]
    }
   ],
   "source": [
    "xgb = GradientBoostingClassifier(n_estimators=50, learning_rate=0.5 , max_features=2, max_depth = 2, random_state = 1234)\n",
    "xgb.fit(x_under, y_under)\n",
    "print(\"Accuracy score (training): {0:.3f}\".format(xgb.score(x_under, y_under)))\n",
    "print(\"Accuracy score (validation): {0:.3f}\".format(xgb.score(x_test, y_test)))"
   ]
  },
  {
   "cell_type": "code",
   "execution_count": 380,
   "metadata": {},
   "outputs": [],
   "source": [
    "xgb_predicted = xgb.predict(x_test)"
   ]
  },
  {
   "cell_type": "code",
   "execution_count": 391,
   "metadata": {},
   "outputs": [],
   "source": [
    "conf_matrix = confusion_matrix(y_test, xgb_predicted)"
   ]
  },
  {
   "cell_type": "code",
   "execution_count": 392,
   "metadata": {},
   "outputs": [
    {
     "name": "stdout",
     "output_type": "stream",
     "text": [
      "[[45723 24517]\n",
      " [ 7038 12722]]\n"
     ]
    }
   ],
   "source": [
    "print(confusion_matrix(y_test, xgb_predicted))"
   ]
  },
  {
   "cell_type": "code",
   "execution_count": 393,
   "metadata": {},
   "outputs": [
    {
     "data": {
      "text/plain": [
       "<AxesSubplot:>"
      ]
     },
     "execution_count": 393,
     "metadata": {},
     "output_type": "execute_result"
    },
    {
     "data": {
      "image/png": "[encoded data removed]",
      "text/plain": [
       "<Figure size 432x288 with 2 Axes>"
      ]
     },
     "metadata": {
      "needs_background": "light"
     },
     "output_type": "display_data"
    }
   ],
   "source": [
    "sns.heatmap(conf_matrix/np.sum(conf_matrix), annot=True, \n",
    "            fmt='.2%', cmap='Blues')"
   ]
  },
  {
   "cell_type": "markdown",
   "metadata": {},
   "source": [
    "Vemos que los resultados obtenidos con el SVM no son horribles pero si mejorables. \n",
    "\n",
    "- Para la gente que clasificó el modelo como pagadores y finalmente pagaron, tenemos un ratio del 51%\n",
    "\n",
    "- Para la gente que clasificó el modelo como no pagadores y finalmente pagaron, tenemos un ratio del 27.30%. ( a esta gente no le dimos el crédito, por tanto, perdimos clientes por hacer una mala predicción)\n",
    "\n",
    "- Para la gente que clasificó el modelo como pagadores y finalmente no pagaron, tenemos un ratio del 8%, lo cual no es una tasa demasiado alta.  "
   ]
  },
  {
   "cell_type": "code",
   "execution_count": 382,
   "metadata": {},
   "outputs": [
    {
     "name": "stdout",
     "output_type": "stream",
     "text": [
      "              precision    recall  f1-score   support\n",
      "\n",
      "           0       0.87      0.65      0.74     70240\n",
      "           1       0.34      0.64      0.45     19760\n",
      "\n",
      "    accuracy                           0.65     90000\n",
      "   macro avg       0.60      0.65      0.59     90000\n",
      "weighted avg       0.75      0.65      0.68     90000\n",
      "\n"
     ]
    }
   ],
   "source": [
    "print(classification_report(y_test, xgb_predicted))"
   ]
  },
  {
   "cell_type": "code",
   "execution_count": 365,
   "metadata": {},
   "outputs": [
    {
     "data": {
      "image/png": "[encoded data removed]",
      "text/plain": [
       "<Figure size 432x288 with 1 Axes>"
      ]
     },
     "metadata": {
      "needs_background": "light"
     },
     "output_type": "display_data"
    }
   ],
   "source": [
    "metrics.plot_roc_curve(xgb , x_test, y_test)\n",
    "plt.show()"
   ]
  },
  {
   "cell_type": "markdown",
   "metadata": {},
   "source": [
    "Hemos ido probando manualmente a cambiar los parametros y por eso no hemos hecho grid. \n",
    "\n",
    "De todas formas, __igual que en todos los modelos, nos sale el mismo accuracy con pocos datos que con prácticamente todos, lo cual no llegamos a entender. Pensamos que no es fallo de los modelos obviamente, sino de como hemos tratado las variables.__\n"
   ]
  },
  {
   "cell_type": "code",
   "execution_count": 379,
   "metadata": {},
   "outputs": [],
   "source": [
    "nombre = 'xgboost.sav'\n",
    "pickle.dump(xgb, open(nombre, 'wb'))"
   ]
  },
  {
   "cell_type": "code",
   "execution_count": null,
   "metadata": {},
   "outputs": [],
   "source": [
    "# Si queremos cargar los modelos: loaded_model = pickle.load(open('xgboost.sav', 'rb'))"
   ]
  },
  {
   "cell_type": "markdown",
   "metadata": {},
   "source": [
    "### Conclusión"
   ]
  },
  {
   "cell_type": "markdown",
   "metadata": {},
   "source": [
    "- Hicimos undersampling en lugar de _oversampling_ , ya que consideramos que teníamos datos suficientes. \n",
    "\n",
    "\n",
    "- Todos los modelos nos dan el mismo _accuracy_ : 65%.\n",
    "\n",
    "\n",
    "- Hemos probado con diferentes cantidades de datos, desde 10.000 hasta 300.000, y hemos obtenido el mismo _accuracy_ .\n",
    "\n",
    "\n",
    "- El mejor modelo, es SVM después del grid, basándonos en el indicador del _accuracy_ , ya que nos da un 66% (la diferencia con el resto es mínima). \n",
    "\n",
    "\n",
    "- Elegimos el SVM para predecir el conjunto de test. \n",
    "\n",
    "\n",
    "- Pensamos que no hemos conseguido un _accuracy_ mayor por no haber gestionado quizás adecuadamente las variables. \n",
    "\n",
    "\n",
    "- Como __next steps__ nos marcamos el volver hacia atrás y modificar algunas variables, pensando qué importancia pueden llegar a tener para nuestro modelo. "
   ]
  }
 ],
 "metadata": {
  "kernelspec": {
   "display_name": "loan_env",
   "language": "python",
   "name": "loan_env"
  },
  "language_info": {
   "codemirror_mode": {
    "name": "ipython",
    "version": 3
   },
   "file_extension": ".py",
   "mimetype": "text/x-python",
   "name": "python",
   "nbconvert_exporter": "python",
   "pygments_lexer": "ipython3",
   "version": "3.8.5"
  }
 },
 "nbformat": 4,
 "nbformat_minor": 4
}
