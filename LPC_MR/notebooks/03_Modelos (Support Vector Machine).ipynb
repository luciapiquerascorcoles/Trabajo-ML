{
 "cells": [
  {
   "cell_type": "markdown",
   "metadata": {},
   "source": [
    "Continuamos con el modelo __Support Vector Machine__:"
   ]
  },
  {
   "cell_type": "markdown",
   "metadata": {},
   "source": [
    "_Support Vector Machine_ es un modelo supervisado de aprendizaje con algoritmos asociados que analizan los datos y reconocen patrones, que se utiliza para la clasificación y el análisis de regresión. Este refleja en el espacio todos los puntos de la muestra realizando finalmente una división mediante una recta o un plano. "
   ]
  },
  {
   "cell_type": "markdown",
   "metadata": {},
   "source": [
    "# Librerías"
   ]
  },
  {
   "cell_type": "code",
   "execution_count": 27,
   "metadata": {},
   "outputs": [],
   "source": [
    "import numpy as np\n",
    "import pandas as pd\n",
    "import matplotlib\n",
    "from matplotlib import pyplot as plt \n",
    "import seaborn as sns \n",
    "from sklearn import model_selection\n",
    "from sklearn import linear_model\n",
    "from sklearn.model_selection import train_test_split \n",
    "import random \n",
    "from sklearn.utils import resample\n",
    "from sklearn import metrics\n",
    "from sklearn.metrics import confusion_matrix\n",
    "from sklearn.metrics import classification_report\n",
    "from sklearn import svm\n",
    "from sklearn.svm import SVC\n",
    "from sklearn.metrics import roc_auc_score\n",
    "from sklearn.metrics import roc_curve\n",
    "from imblearn.under_sampling import RandomUnderSampler\n",
    "from sklearn.metrics import confusion_matrix\n",
    "from sklearn.metrics import classification_report\n",
    "from sklearn.model_selection import GridSearchCV\n",
    "from sklearn import metrics\n",
    "import pickle # guardar modelos"
   ]
  },
  {
   "cell_type": "markdown",
   "metadata": {},
   "source": [
    "Cargamos el dataset:"
   ]
  },
  {
   "cell_type": "code",
   "execution_count": 3,
   "metadata": {},
   "outputs": [
    {
     "data": {
      "text/html": [
       "<div>\n",
       "<style scoped>\n",
       "    .dataframe tbody tr th:only-of-type {\n",
       "        vertical-align: middle;\n",
       "    }\n",
       "\n",
       "    .dataframe tbody tr th {\n",
       "        vertical-align: top;\n",
       "    }\n",
       "\n",
       "    .dataframe thead th {\n",
       "        text-align: right;\n",
       "    }\n",
       "</style>\n",
       "<table border=\"1\" class=\"dataframe\">\n",
       "  <thead>\n",
       "    <tr style=\"text-align: right;\">\n",
       "      <th></th>\n",
       "      <th>('annual_inc',)</th>\n",
       "      <th>('dti',)</th>\n",
       "      <th>('emp_length',)</th>\n",
       "      <th>('int_rate',)</th>\n",
       "      <th>('loan_amnt',)</th>\n",
       "      <th>('mort_acc',)</th>\n",
       "      <th>('open_acc',)</th>\n",
       "      <th>('pub_rec_bankruptcies',)</th>\n",
       "      <th>('revol_bal',)</th>\n",
       "      <th>('revol_util',)</th>\n",
       "      <th>...</th>\n",
       "      <th>sub_grade_G1</th>\n",
       "      <th>sub_grade_G2</th>\n",
       "      <th>sub_grade_G3</th>\n",
       "      <th>sub_grade_G4</th>\n",
       "      <th>sub_grade_G5</th>\n",
       "      <th>term_36</th>\n",
       "      <th>term_60</th>\n",
       "      <th>verification_status_Not Verified</th>\n",
       "      <th>verification_status_Source Verified</th>\n",
       "      <th>verification_status_Verified</th>\n",
       "    </tr>\n",
       "  </thead>\n",
       "  <tbody>\n",
       "    <tr>\n",
       "      <th>0</th>\n",
       "      <td>1.601835</td>\n",
       "      <td>-0.157682</td>\n",
       "      <td>0.081610</td>\n",
       "      <td>-1.321041</td>\n",
       "      <td>-0.351811</td>\n",
       "      <td>0.157875</td>\n",
       "      <td>1.502962</td>\n",
       "      <td>2.145481</td>\n",
       "      <td>-0.154017</td>\n",
       "      <td>-1.274923</td>\n",
       "      <td>...</td>\n",
       "      <td>0</td>\n",
       "      <td>0</td>\n",
       "      <td>0</td>\n",
       "      <td>0</td>\n",
       "      <td>0</td>\n",
       "      <td>1</td>\n",
       "      <td>0</td>\n",
       "      <td>1</td>\n",
       "      <td>0</td>\n",
       "      <td>0</td>\n",
       "    </tr>\n",
       "    <tr>\n",
       "      <th>1</th>\n",
       "      <td>-0.489987</td>\n",
       "      <td>-1.409073</td>\n",
       "      <td>-0.961618</td>\n",
       "      <td>2.592857</td>\n",
       "      <td>-0.866473</td>\n",
       "      <td>-0.915189</td>\n",
       "      <td>-1.428406</td>\n",
       "      <td>-0.372109</td>\n",
       "      <td>-0.932286</td>\n",
       "      <td>1.921663</td>\n",
       "      <td>...</td>\n",
       "      <td>0</td>\n",
       "      <td>0</td>\n",
       "      <td>0</td>\n",
       "      <td>0</td>\n",
       "      <td>0</td>\n",
       "      <td>1</td>\n",
       "      <td>0</td>\n",
       "      <td>0</td>\n",
       "      <td>1</td>\n",
       "      <td>0</td>\n",
       "    </tr>\n",
       "    <tr>\n",
       "      <th>2</th>\n",
       "      <td>0.984698</td>\n",
       "      <td>-0.601169</td>\n",
       "      <td>0.342417</td>\n",
       "      <td>-1.321041</td>\n",
       "      <td>-0.831182</td>\n",
       "      <td>1.230939</td>\n",
       "      <td>1.319751</td>\n",
       "      <td>-0.372109</td>\n",
       "      <td>0.738413</td>\n",
       "      <td>-1.086148</td>\n",
       "      <td>...</td>\n",
       "      <td>0</td>\n",
       "      <td>0</td>\n",
       "      <td>0</td>\n",
       "      <td>0</td>\n",
       "      <td>0</td>\n",
       "      <td>1</td>\n",
       "      <td>0</td>\n",
       "      <td>1</td>\n",
       "      <td>0</td>\n",
       "      <td>0</td>\n",
       "    </tr>\n",
       "    <tr>\n",
       "      <th>3</th>\n",
       "      <td>-0.417387</td>\n",
       "      <td>-0.946104</td>\n",
       "      <td>0.342417</td>\n",
       "      <td>0.618016</td>\n",
       "      <td>-0.537090</td>\n",
       "      <td>-0.915189</td>\n",
       "      <td>0.586909</td>\n",
       "      <td>4.663070</td>\n",
       "      <td>-0.509064</td>\n",
       "      <td>-1.388188</td>\n",
       "      <td>...</td>\n",
       "      <td>0</td>\n",
       "      <td>0</td>\n",
       "      <td>0</td>\n",
       "      <td>0</td>\n",
       "      <td>0</td>\n",
       "      <td>0</td>\n",
       "      <td>1</td>\n",
       "      <td>0</td>\n",
       "      <td>1</td>\n",
       "      <td>0</td>\n",
       "    </tr>\n",
       "    <tr>\n",
       "      <th>4</th>\n",
       "      <td>0.268369</td>\n",
       "      <td>-0.860157</td>\n",
       "      <td>0.342417</td>\n",
       "      <td>0.618016</td>\n",
       "      <td>-0.066541</td>\n",
       "      <td>-0.378657</td>\n",
       "      <td>-1.428406</td>\n",
       "      <td>-0.372109</td>\n",
       "      <td>-1.177864</td>\n",
       "      <td>1.548308</td>\n",
       "      <td>...</td>\n",
       "      <td>0</td>\n",
       "      <td>0</td>\n",
       "      <td>0</td>\n",
       "      <td>0</td>\n",
       "      <td>0</td>\n",
       "      <td>1</td>\n",
       "      <td>0</td>\n",
       "      <td>0</td>\n",
       "      <td>0</td>\n",
       "      <td>1</td>\n",
       "    </tr>\n",
       "    <tr>\n",
       "      <th>...</th>\n",
       "      <td>...</td>\n",
       "      <td>...</td>\n",
       "      <td>...</td>\n",
       "      <td>...</td>\n",
       "      <td>...</td>\n",
       "      <td>...</td>\n",
       "      <td>...</td>\n",
       "      <td>...</td>\n",
       "      <td>...</td>\n",
       "      <td>...</td>\n",
       "      <td>...</td>\n",
       "      <td>...</td>\n",
       "      <td>...</td>\n",
       "      <td>...</td>\n",
       "      <td>...</td>\n",
       "      <td>...</td>\n",
       "      <td>...</td>\n",
       "      <td>...</td>\n",
       "      <td>...</td>\n",
       "      <td>...</td>\n",
       "      <td>...</td>\n",
       "    </tr>\n",
       "    <tr>\n",
       "      <th>442562</th>\n",
       "      <td>-1.756702</td>\n",
       "      <td>0.998595</td>\n",
       "      <td>1.124838</td>\n",
       "      <td>0.521846</td>\n",
       "      <td>-0.351811</td>\n",
       "      <td>-0.915189</td>\n",
       "      <td>-0.512354</td>\n",
       "      <td>-0.372109</td>\n",
       "      <td>0.520341</td>\n",
       "      <td>0.499560</td>\n",
       "      <td>...</td>\n",
       "      <td>0</td>\n",
       "      <td>0</td>\n",
       "      <td>0</td>\n",
       "      <td>0</td>\n",
       "      <td>0</td>\n",
       "      <td>1</td>\n",
       "      <td>0</td>\n",
       "      <td>0</td>\n",
       "      <td>0</td>\n",
       "      <td>1</td>\n",
       "    </tr>\n",
       "    <tr>\n",
       "      <th>442563</th>\n",
       "      <td>-0.057731</td>\n",
       "      <td>0.610113</td>\n",
       "      <td>-1.483232</td>\n",
       "      <td>-0.283299</td>\n",
       "      <td>-0.301816</td>\n",
       "      <td>-0.378657</td>\n",
       "      <td>0.220488</td>\n",
       "      <td>-0.372109</td>\n",
       "      <td>0.648895</td>\n",
       "      <td>0.696725</td>\n",
       "      <td>...</td>\n",
       "      <td>0</td>\n",
       "      <td>0</td>\n",
       "      <td>0</td>\n",
       "      <td>0</td>\n",
       "      <td>0</td>\n",
       "      <td>1</td>\n",
       "      <td>0</td>\n",
       "      <td>0</td>\n",
       "      <td>0</td>\n",
       "      <td>1</td>\n",
       "    </tr>\n",
       "    <tr>\n",
       "      <th>442564</th>\n",
       "      <td>-1.157084</td>\n",
       "      <td>1.436353</td>\n",
       "      <td>-0.179197</td>\n",
       "      <td>0.611307</td>\n",
       "      <td>-0.184178</td>\n",
       "      <td>-0.915189</td>\n",
       "      <td>-0.512354</td>\n",
       "      <td>2.145481</td>\n",
       "      <td>0.072311</td>\n",
       "      <td>0.344345</td>\n",
       "      <td>...</td>\n",
       "      <td>0</td>\n",
       "      <td>0</td>\n",
       "      <td>0</td>\n",
       "      <td>0</td>\n",
       "      <td>0</td>\n",
       "      <td>0</td>\n",
       "      <td>1</td>\n",
       "      <td>0</td>\n",
       "      <td>0</td>\n",
       "      <td>1</td>\n",
       "    </tr>\n",
       "    <tr>\n",
       "      <th>442565</th>\n",
       "      <td>-0.016623</td>\n",
       "      <td>1.011200</td>\n",
       "      <td>-1.222425</td>\n",
       "      <td>1.505912</td>\n",
       "      <td>-0.301816</td>\n",
       "      <td>-0.915189</td>\n",
       "      <td>0.953330</td>\n",
       "      <td>-0.372109</td>\n",
       "      <td>-0.185316</td>\n",
       "      <td>-0.943518</td>\n",
       "      <td>...</td>\n",
       "      <td>0</td>\n",
       "      <td>0</td>\n",
       "      <td>0</td>\n",
       "      <td>0</td>\n",
       "      <td>0</td>\n",
       "      <td>0</td>\n",
       "      <td>1</td>\n",
       "      <td>0</td>\n",
       "      <td>1</td>\n",
       "      <td>0</td>\n",
       "    </tr>\n",
       "    <tr>\n",
       "      <th>442566</th>\n",
       "      <td>0.806434</td>\n",
       "      <td>-0.863595</td>\n",
       "      <td>1.124838</td>\n",
       "      <td>-0.283299</td>\n",
       "      <td>0.639281</td>\n",
       "      <td>-0.915189</td>\n",
       "      <td>-0.695564</td>\n",
       "      <td>-0.372109</td>\n",
       "      <td>1.052926</td>\n",
       "      <td>1.120419</td>\n",
       "      <td>...</td>\n",
       "      <td>0</td>\n",
       "      <td>0</td>\n",
       "      <td>0</td>\n",
       "      <td>0</td>\n",
       "      <td>0</td>\n",
       "      <td>1</td>\n",
       "      <td>0</td>\n",
       "      <td>0</td>\n",
       "      <td>0</td>\n",
       "      <td>1</td>\n",
       "    </tr>\n",
       "  </tbody>\n",
       "</table>\n",
       "<p>442567 rows × 73 columns</p>\n",
       "</div>"
      ],
      "text/plain": [
       "        ('annual_inc',)  ('dti',)  ('emp_length',)  ('int_rate',)  \\\n",
       "0              1.601835 -0.157682         0.081610      -1.321041   \n",
       "1             -0.489987 -1.409073        -0.961618       2.592857   \n",
       "2              0.984698 -0.601169         0.342417      -1.321041   \n",
       "3             -0.417387 -0.946104         0.342417       0.618016   \n",
       "4              0.268369 -0.860157         0.342417       0.618016   \n",
       "...                 ...       ...              ...            ...   \n",
       "442562        -1.756702  0.998595         1.124838       0.521846   \n",
       "442563        -0.057731  0.610113        -1.483232      -0.283299   \n",
       "442564        -1.157084  1.436353        -0.179197       0.611307   \n",
       "442565        -0.016623  1.011200        -1.222425       1.505912   \n",
       "442566         0.806434 -0.863595         1.124838      -0.283299   \n",
       "\n",
       "        ('loan_amnt',)  ('mort_acc',)  ('open_acc',)  \\\n",
       "0            -0.351811       0.157875       1.502962   \n",
       "1            -0.866473      -0.915189      -1.428406   \n",
       "2            -0.831182       1.230939       1.319751   \n",
       "3            -0.537090      -0.915189       0.586909   \n",
       "4            -0.066541      -0.378657      -1.428406   \n",
       "...                ...            ...            ...   \n",
       "442562       -0.351811      -0.915189      -0.512354   \n",
       "442563       -0.301816      -0.378657       0.220488   \n",
       "442564       -0.184178      -0.915189      -0.512354   \n",
       "442565       -0.301816      -0.915189       0.953330   \n",
       "442566        0.639281      -0.915189      -0.695564   \n",
       "\n",
       "        ('pub_rec_bankruptcies',)  ('revol_bal',)  ('revol_util',)  ...  \\\n",
       "0                        2.145481       -0.154017        -1.274923  ...   \n",
       "1                       -0.372109       -0.932286         1.921663  ...   \n",
       "2                       -0.372109        0.738413        -1.086148  ...   \n",
       "3                        4.663070       -0.509064        -1.388188  ...   \n",
       "4                       -0.372109       -1.177864         1.548308  ...   \n",
       "...                           ...             ...              ...  ...   \n",
       "442562                  -0.372109        0.520341         0.499560  ...   \n",
       "442563                  -0.372109        0.648895         0.696725  ...   \n",
       "442564                   2.145481        0.072311         0.344345  ...   \n",
       "442565                  -0.372109       -0.185316        -0.943518  ...   \n",
       "442566                  -0.372109        1.052926         1.120419  ...   \n",
       "\n",
       "        sub_grade_G1  sub_grade_G2  sub_grade_G3  sub_grade_G4  sub_grade_G5  \\\n",
       "0                  0             0             0             0             0   \n",
       "1                  0             0             0             0             0   \n",
       "2                  0             0             0             0             0   \n",
       "3                  0             0             0             0             0   \n",
       "4                  0             0             0             0             0   \n",
       "...              ...           ...           ...           ...           ...   \n",
       "442562             0             0             0             0             0   \n",
       "442563             0             0             0             0             0   \n",
       "442564             0             0             0             0             0   \n",
       "442565             0             0             0             0             0   \n",
       "442566             0             0             0             0             0   \n",
       "\n",
       "        term_36  term_60  verification_status_Not Verified  \\\n",
       "0             1        0                                 1   \n",
       "1             1        0                                 0   \n",
       "2             1        0                                 1   \n",
       "3             0        1                                 0   \n",
       "4             1        0                                 0   \n",
       "...         ...      ...                               ...   \n",
       "442562        1        0                                 0   \n",
       "442563        1        0                                 0   \n",
       "442564        0        1                                 0   \n",
       "442565        0        1                                 0   \n",
       "442566        1        0                                 0   \n",
       "\n",
       "        verification_status_Source Verified  verification_status_Verified  \n",
       "0                                         0                             0  \n",
       "1                                         1                             0  \n",
       "2                                         0                             0  \n",
       "3                                         1                             0  \n",
       "4                                         0                             1  \n",
       "...                                     ...                           ...  \n",
       "442562                                    0                             1  \n",
       "442563                                    0                             1  \n",
       "442564                                    0                             1  \n",
       "442565                                    1                             0  \n",
       "442566                                    0                             1  \n",
       "\n",
       "[442567 rows x 73 columns]"
      ]
     },
     "execution_count": 3,
     "metadata": {},
     "output_type": "execute_result"
    }
   ],
   "source": [
    "LOAN_var_norm = pd.read_csv('../data/intermediate/LOAN_var_norm.csv', delimiter =\",\")\n",
    "LOAN_var_norm"
   ]
  },
  {
   "cell_type": "markdown",
   "metadata": {},
   "source": [
    "# Train y Test"
   ]
  },
  {
   "cell_type": "markdown",
   "metadata": {},
   "source": [
    "Lo hacemos con 100.000 datos, porque obtenemos el mismo accuracy que con más y el coste computacional es menor. "
   ]
  },
  {
   "cell_type": "code",
   "execution_count": 4,
   "metadata": {},
   "outputs": [],
   "source": [
    "data_train1 = LOAN_var_norm.sample(n=100000, random_state=1234)"
   ]
  },
  {
   "cell_type": "code",
   "execution_count": null,
   "metadata": {},
   "outputs": [],
   "source": [
    "data_train1.info()"
   ]
  },
  {
   "cell_type": "code",
   "execution_count": 5,
   "metadata": {},
   "outputs": [],
   "source": [
    "Y = data_train1['Charged_off']\n",
    "X = data_train1.drop(['Charged_off'], axis = 1)"
   ]
  },
  {
   "cell_type": "code",
   "execution_count": 6,
   "metadata": {},
   "outputs": [
    {
     "name": "stdout",
     "output_type": "stream",
     "text": [
      "<class 'pandas.core.frame.DataFrame'>\n",
      "Int64Index: 100000 entries, 271013 to 53306\n",
      "Data columns (total 72 columns):\n",
      " #   Column                               Non-Null Count   Dtype  \n",
      "---  ------                               --------------   -----  \n",
      " 0   ('annual_inc',)                      100000 non-null  float64\n",
      " 1   ('dti',)                             100000 non-null  float64\n",
      " 2   ('emp_length',)                      100000 non-null  float64\n",
      " 3   ('int_rate',)                        100000 non-null  float64\n",
      " 4   ('loan_amnt',)                       100000 non-null  float64\n",
      " 5   ('mort_acc',)                        100000 non-null  float64\n",
      " 6   ('open_acc',)                        100000 non-null  float64\n",
      " 7   ('pub_rec_bankruptcies',)            100000 non-null  float64\n",
      " 8   ('revol_bal',)                       100000 non-null  float64\n",
      " 9   ('revol_util',)                      100000 non-null  float64\n",
      " 10  ('total_acc',)                       100000 non-null  float64\n",
      " 11  application_type_Individual          100000 non-null  int64  \n",
      " 12  application_type_Joint App           100000 non-null  int64  \n",
      " 13  home_ownership_MORTGAGE              100000 non-null  int64  \n",
      " 14  home_ownership_OWN                   100000 non-null  int64  \n",
      " 15  home_ownership_RENT                  100000 non-null  int64  \n",
      " 16  initial_list_status_f                100000 non-null  int64  \n",
      " 17  initial_list_status_w                100000 non-null  int64  \n",
      " 18  purpose_car                          100000 non-null  int64  \n",
      " 19  purpose_credit_card                  100000 non-null  int64  \n",
      " 20  purpose_debt_consolidation           100000 non-null  int64  \n",
      " 21  purpose_educational                  100000 non-null  int64  \n",
      " 22  purpose_home_improvement             100000 non-null  int64  \n",
      " 23  purpose_house                        100000 non-null  int64  \n",
      " 24  purpose_major_purchase               100000 non-null  int64  \n",
      " 25  purpose_medical                      100000 non-null  int64  \n",
      " 26  purpose_moving                       100000 non-null  int64  \n",
      " 27  purpose_other                        100000 non-null  int64  \n",
      " 28  purpose_renewable_energy             100000 non-null  int64  \n",
      " 29  purpose_small_business               100000 non-null  int64  \n",
      " 30  purpose_vacation                     100000 non-null  int64  \n",
      " 31  purpose_wedding                      100000 non-null  int64  \n",
      " 32  sub_grade_A1                         100000 non-null  int64  \n",
      " 33  sub_grade_A2                         100000 non-null  int64  \n",
      " 34  sub_grade_A3                         100000 non-null  int64  \n",
      " 35  sub_grade_A4                         100000 non-null  int64  \n",
      " 36  sub_grade_A5                         100000 non-null  int64  \n",
      " 37  sub_grade_B1                         100000 non-null  int64  \n",
      " 38  sub_grade_B2                         100000 non-null  int64  \n",
      " 39  sub_grade_B3                         100000 non-null  int64  \n",
      " 40  sub_grade_B4                         100000 non-null  int64  \n",
      " 41  sub_grade_B5                         100000 non-null  int64  \n",
      " 42  sub_grade_C1                         100000 non-null  int64  \n",
      " 43  sub_grade_C2                         100000 non-null  int64  \n",
      " 44  sub_grade_C3                         100000 non-null  int64  \n",
      " 45  sub_grade_C4                         100000 non-null  int64  \n",
      " 46  sub_grade_C5                         100000 non-null  int64  \n",
      " 47  sub_grade_D1                         100000 non-null  int64  \n",
      " 48  sub_grade_D2                         100000 non-null  int64  \n",
      " 49  sub_grade_D3                         100000 non-null  int64  \n",
      " 50  sub_grade_D4                         100000 non-null  int64  \n",
      " 51  sub_grade_D5                         100000 non-null  int64  \n",
      " 52  sub_grade_E1                         100000 non-null  int64  \n",
      " 53  sub_grade_E2                         100000 non-null  int64  \n",
      " 54  sub_grade_E3                         100000 non-null  int64  \n",
      " 55  sub_grade_E4                         100000 non-null  int64  \n",
      " 56  sub_grade_E5                         100000 non-null  int64  \n",
      " 57  sub_grade_F1                         100000 non-null  int64  \n",
      " 58  sub_grade_F2                         100000 non-null  int64  \n",
      " 59  sub_grade_F3                         100000 non-null  int64  \n",
      " 60  sub_grade_F4                         100000 non-null  int64  \n",
      " 61  sub_grade_F5                         100000 non-null  int64  \n",
      " 62  sub_grade_G1                         100000 non-null  int64  \n",
      " 63  sub_grade_G2                         100000 non-null  int64  \n",
      " 64  sub_grade_G3                         100000 non-null  int64  \n",
      " 65  sub_grade_G4                         100000 non-null  int64  \n",
      " 66  sub_grade_G5                         100000 non-null  int64  \n",
      " 67  term_36                              100000 non-null  int64  \n",
      " 68  term_60                              100000 non-null  int64  \n",
      " 69  verification_status_Not Verified     100000 non-null  int64  \n",
      " 70  verification_status_Source Verified  100000 non-null  int64  \n",
      " 71  verification_status_Verified         100000 non-null  int64  \n",
      "dtypes: float64(11), int64(61)\n",
      "memory usage: 55.7 MB\n"
     ]
    }
   ],
   "source": [
    "# Vemos que no está 'Charged _off'\n",
    "X.info()"
   ]
  },
  {
   "cell_type": "code",
   "execution_count": 7,
   "metadata": {},
   "outputs": [
    {
     "data": {
      "text/plain": [
       "236318    0\n",
       "9365      0\n",
       "205082    0\n",
       "233901    1\n",
       "53306     1\n",
       "Name: Charged_off, dtype: int64"
      ]
     },
     "execution_count": 7,
     "metadata": {},
     "output_type": "execute_result"
    }
   ],
   "source": [
    "Y.tail()"
   ]
  },
  {
   "cell_type": "code",
   "execution_count": 10,
   "metadata": {},
   "outputs": [],
   "source": [
    "x_train, x_test, y_train, y_test = train_test_split(X, Y, test_size=0.3, random_state=1234)"
   ]
  },
  {
   "cell_type": "code",
   "execution_count": 11,
   "metadata": {},
   "outputs": [
    {
     "data": {
      "text/plain": [
       "(70000, 72)"
      ]
     },
     "execution_count": 11,
     "metadata": {},
     "output_type": "execute_result"
    }
   ],
   "source": [
    "x_train.shape"
   ]
  },
  {
   "cell_type": "code",
   "execution_count": 12,
   "metadata": {},
   "outputs": [
    {
     "data": {
      "text/plain": [
       "(30000, 72)"
      ]
     },
     "execution_count": 12,
     "metadata": {},
     "output_type": "execute_result"
    }
   ],
   "source": [
    "x_test.shape"
   ]
  },
  {
   "cell_type": "code",
   "execution_count": 13,
   "metadata": {},
   "outputs": [
    {
     "data": {
      "text/plain": [
       "331201    0\n",
       "94466     0\n",
       "254242    0\n",
       "69411     0\n",
       "279932    1\n",
       "Name: Charged_off, dtype: int64"
      ]
     },
     "execution_count": 13,
     "metadata": {},
     "output_type": "execute_result"
    }
   ],
   "source": [
    "y_train.head()"
   ]
  },
  {
   "cell_type": "markdown",
   "metadata": {},
   "source": [
    "Hacemos _undersampling_ porque tenemos datos de sobra como para hacer oversampling. Lo que queremos es bajar la clase que tiene más cantidad, a la que tiene menos. "
   ]
  },
  {
   "cell_type": "markdown",
   "metadata": {},
   "source": [
    "Haremos undersampling de los datos de nuestra muestra para balancearlos:"
   ]
  },
  {
   "cell_type": "code",
   "execution_count": 14,
   "metadata": {},
   "outputs": [],
   "source": [
    "undersample = RandomUnderSampler(sampling_strategy = 'majority')"
   ]
  },
  {
   "cell_type": "code",
   "execution_count": 15,
   "metadata": {},
   "outputs": [],
   "source": [
    "x_under, y_under = undersample.fit_sample(x_train, y_train)"
   ]
  },
  {
   "cell_type": "code",
   "execution_count": 16,
   "metadata": {},
   "outputs": [
    {
     "data": {
      "text/plain": [
       "(30720, 72)"
      ]
     },
     "execution_count": 16,
     "metadata": {},
     "output_type": "execute_result"
    }
   ],
   "source": [
    "x_under.shape"
   ]
  },
  {
   "cell_type": "code",
   "execution_count": 17,
   "metadata": {},
   "outputs": [
    {
     "data": {
      "text/plain": [
       "(30720,)"
      ]
     },
     "execution_count": 17,
     "metadata": {},
     "output_type": "execute_result"
    }
   ],
   "source": [
    "y_under.shape"
   ]
  },
  {
   "cell_type": "markdown",
   "metadata": {},
   "source": [
    "## SVM"
   ]
  },
  {
   "cell_type": "code",
   "execution_count": 18,
   "metadata": {},
   "outputs": [],
   "source": [
    "SVM = SVC(kernel='rbf',\n",
    "          tol=0.01, \n",
    "          C=1, random_state=1234)"
   ]
  },
  {
   "cell_type": "code",
   "execution_count": 19,
   "metadata": {},
   "outputs": [
    {
     "data": {
      "text/plain": [
       "SVC(C=1, random_state=1234, tol=0.01)"
      ]
     },
     "execution_count": 19,
     "metadata": {},
     "output_type": "execute_result"
    }
   ],
   "source": [
    "SVM.fit(x_under, y_under)"
   ]
  },
  {
   "cell_type": "code",
   "execution_count": 20,
   "metadata": {},
   "outputs": [
    {
     "data": {
      "text/plain": [
       "0.6819010416666667"
      ]
     },
     "execution_count": 20,
     "metadata": {},
     "output_type": "execute_result"
    }
   ],
   "source": [
    "SVM.score(x_under, y_under)"
   ]
  },
  {
   "cell_type": "code",
   "execution_count": 21,
   "metadata": {},
   "outputs": [],
   "source": [
    "SVM_predicted = SVM.predict(x_test)"
   ]
  },
  {
   "cell_type": "code",
   "execution_count": 22,
   "metadata": {},
   "outputs": [
    {
     "data": {
      "text/plain": [
       "0.6418"
      ]
     },
     "execution_count": 22,
     "metadata": {},
     "output_type": "execute_result"
    }
   ],
   "source": [
    "SVM.score(x_test, y_test)"
   ]
  },
  {
   "cell_type": "code",
   "execution_count": null,
   "metadata": {},
   "outputs": [],
   "source": [
    "conf_matrix = confusion_matrix(y_test, SVM_predicted)"
   ]
  },
  {
   "cell_type": "code",
   "execution_count": 23,
   "metadata": {
    "scrolled": true
   },
   "outputs": [
    {
     "name": "stdout",
     "output_type": "stream",
     "text": [
      "[[14810  8615]\n",
      " [ 2131  4444]]\n"
     ]
    }
   ],
   "source": [
    "print(conf_matrix)"
   ]
  },
  {
   "cell_type": "code",
   "execution_count": null,
   "metadata": {},
   "outputs": [],
   "source": [
    "sns.heatmap(conf_matrix/np.sum(conf_matrix), annot=True, \n",
    "            fmt='.2%', cmap='Blues')"
   ]
  },
  {
   "cell_type": "code",
   "execution_count": 24,
   "metadata": {},
   "outputs": [
    {
     "name": "stdout",
     "output_type": "stream",
     "text": [
      "              precision    recall  f1-score   support\n",
      "\n",
      "           0       0.87      0.63      0.73     23425\n",
      "           1       0.34      0.68      0.45      6575\n",
      "\n",
      "    accuracy                           0.64     30000\n",
      "   macro avg       0.61      0.65      0.59     30000\n",
      "weighted avg       0.76      0.64      0.67     30000\n",
      "\n"
     ]
    }
   ],
   "source": [
    "print(classification_report(y_test, SVM_predicted))"
   ]
  },
  {
   "cell_type": "code",
   "execution_count": 25,
   "metadata": {},
   "outputs": [
    {
     "data": {
      "image/png": "[encoded data removed]",
      "text/plain": [
       "<Figure size 432x288 with 1 Axes>"
      ]
     },
     "metadata": {
      "needs_background": "light"
     },
     "output_type": "display_data"
    }
   ],
   "source": [
    "metrics.plot_roc_curve(SVM, x_test, y_test)\n",
    "plt.show()"
   ]
  },
  {
   "cell_type": "markdown",
   "metadata": {},
   "source": [
    "__Vemos que el accuracy no mejora, se mantiene en 0.64, bien sea cogiendo una muestra de 10.000 datos, de 100.000 o una de 300.000.__\n",
    "\n",
    "Además, la precisión de los que pagan es de 0.34, lo cual nos parece bajo, pero no hemos conseguido aumentarlo. "
   ]
  },
  {
   "cell_type": "markdown",
   "metadata": {},
   "source": [
    "### Búsqueda Grid"
   ]
  },
  {
   "cell_type": "markdown",
   "metadata": {},
   "source": [
    "A continuación se adjuntará el código de la parte realizada con el support vector machine, en la cual se ve reflejada la realización de de la busqueda grid para escoger de una manera correcta los hiper parámetros. "
   ]
  },
  {
   "cell_type": "code",
   "execution_count": 28,
   "metadata": {},
   "outputs": [
    {
     "name": "stdout",
     "output_type": "stream",
     "text": [
      "Fitting 5 folds for each of 6 candidates, totalling 30 fits\n"
     ]
    },
    {
     "name": "stderr",
     "output_type": "stream",
     "text": [
      "[Parallel(n_jobs=3)]: Using backend LokyBackend with 3 concurrent workers.\n",
      "[Parallel(n_jobs=3)]: Done  30 out of  30 | elapsed: 42.0min finished\n"
     ]
    },
    {
     "data": {
      "text/plain": [
       "GridSearchCV(estimator=SVC(), n_jobs=3,\n",
       "             param_grid={'C': [0.1, 10, 100], 'gamma': [0.001, 0.0001],\n",
       "                         'kernel': ['rbf']},\n",
       "             verbose=3)"
      ]
     },
     "execution_count": 28,
     "metadata": {},
     "output_type": "execute_result"
    }
   ],
   "source": [
    "# probamos con kernel radial solo y ya nos tarda mucho\n",
    "# dejamos el gamma por defecto (no lo ponemos)\n",
    "# metemos 5 en el parametro de regularizacion\n",
    "# njobs = 3 para usar 3 procesadores\n",
    " \n",
    "param_grid = {'C': [0.1, 10, 100],\n",
    "              'gamma' : [0.001, 0.0001],\n",
    "              'kernel': ['rbf']}  \n",
    "grid = GridSearchCV(SVC(), param_grid, refit = True, verbose = 3, n_jobs = 3)\n",
    "grid.fit(x_under, y_under) "
   ]
  },
  {
   "cell_type": "code",
   "execution_count": 29,
   "metadata": {},
   "outputs": [
    {
     "name": "stdout",
     "output_type": "stream",
     "text": [
      "SVC(C=10, gamma=0.0001)\n"
     ]
    }
   ],
   "source": [
    "# para ver cuál es el mejor modelo\n",
    "print(grid.best_estimator_) \n",
    "# SVC(C=10, gamma=0.0001)"
   ]
  },
  {
   "cell_type": "code",
   "execution_count": 30,
   "metadata": {},
   "outputs": [],
   "source": [
    "# guardamos el mejor modelo\n",
    "SVM_Best = grid.best_estimator_"
   ]
  },
  {
   "cell_type": "code",
   "execution_count": 31,
   "metadata": {},
   "outputs": [
    {
     "name": "stdout",
     "output_type": "stream",
     "text": [
      "              precision    recall  f1-score   support\n",
      "\n",
      "           0       0.87      0.64      0.74     23425\n",
      "           1       0.34      0.67      0.45      6575\n",
      "\n",
      "    accuracy                           0.64     30000\n",
      "   macro avg       0.61      0.65      0.59     30000\n",
      "weighted avg       0.75      0.64      0.67     30000\n",
      "\n"
     ]
    }
   ],
   "source": [
    "grid_predictions = SVM_Best.predict(x_test)\n",
    "print(classification_report(y_test, grid_predictions))"
   ]
  },
  {
   "cell_type": "code",
   "execution_count": null,
   "metadata": {},
   "outputs": [],
   "source": [
    "metrics.plot_roc_curve(SVM_Best, x_test, y_test)\n",
    "plt.show()"
   ]
  },
  {
   "cell_type": "markdown",
   "metadata": {},
   "source": [
    "__Después de hacer el grid__ hemos obtenido un accuracy ligeramente mayor, del __66%.__"
   ]
  },
  {
   "cell_type": "code",
   "execution_count": null,
   "metadata": {},
   "outputs": [],
   "source": [
    "# guardamos el modelo:\n",
    "nombre = 'SupportVM.sav'\n",
    "pickle.dump(RF, open(nombre, 'wb'))"
   ]
  }
 ],
 "metadata": {
  "kernelspec": {
   "display_name": "loan_env",
   "language": "python",
   "name": "loan_env"
  },
  "language_info": {
   "codemirror_mode": {
    "name": "ipython",
    "version": 3
   },
   "file_extension": ".py",
   "mimetype": "text/x-python",
   "name": "python",
   "nbconvert_exporter": "python",
   "pygments_lexer": "ipython3",
   "version": "3.8.5"
  }
 },
 "nbformat": 4,
 "nbformat_minor": 4
}
